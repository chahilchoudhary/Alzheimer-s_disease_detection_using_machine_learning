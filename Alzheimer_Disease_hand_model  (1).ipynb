{
 "cells": [
  {
   "cell_type": "code",
   "execution_count": 1,
   "id": "258d354e",
   "metadata": {},
   "outputs": [],
   "source": [
    "import pandas as pd\n",
    "import numpy as np\n",
    "import matplotlib.pyplot as plt\n",
    "%matplotlib inline\n",
    "import seaborn as sns"
   ]
  },
  {
   "cell_type": "code",
   "execution_count": 2,
   "id": "bb5fd64c",
   "metadata": {},
   "outputs": [],
   "source": [
    "data = pd.read_csv('alizimer_data.csv')"
   ]
  },
  {
   "cell_type": "code",
   "execution_count": 3,
   "id": "4dfd05cf",
   "metadata": {},
   "outputs": [
    {
     "name": "stdout",
     "output_type": "stream",
     "text": [
      "<class 'pandas.core.frame.DataFrame'>\n",
      "RangeIndex: 174 entries, 0 to 173\n",
      "Columns: 452 entries, ID to class\n",
      "dtypes: float64(300), int64(150), object(2)\n",
      "memory usage: 614.6+ KB\n"
     ]
    }
   ],
   "source": [
    "data.info()"
   ]
  },
  {
   "cell_type": "code",
   "execution_count": 4,
   "id": "d3345ec4",
   "metadata": {},
   "outputs": [
    {
     "data": {
      "text/html": [
       "<div>\n",
       "<style scoped>\n",
       "    .dataframe tbody tr th:only-of-type {\n",
       "        vertical-align: middle;\n",
       "    }\n",
       "\n",
       "    .dataframe tbody tr th {\n",
       "        vertical-align: top;\n",
       "    }\n",
       "\n",
       "    .dataframe thead th {\n",
       "        text-align: right;\n",
       "    }\n",
       "</style>\n",
       "<table border=\"1\" class=\"dataframe\">\n",
       "  <thead>\n",
       "    <tr style=\"text-align: right;\">\n",
       "      <th></th>\n",
       "      <th>ID</th>\n",
       "      <th>air_time1</th>\n",
       "      <th>disp_index1</th>\n",
       "      <th>gmrt_in_air1</th>\n",
       "      <th>gmrt_on_paper1</th>\n",
       "      <th>max_x_extension1</th>\n",
       "      <th>max_y_extension1</th>\n",
       "      <th>mean_acc_in_air1</th>\n",
       "      <th>mean_acc_on_paper1</th>\n",
       "      <th>mean_gmrt1</th>\n",
       "      <th>...</th>\n",
       "      <th>mean_jerk_in_air25</th>\n",
       "      <th>mean_jerk_on_paper25</th>\n",
       "      <th>mean_speed_in_air25</th>\n",
       "      <th>mean_speed_on_paper25</th>\n",
       "      <th>num_of_pendown25</th>\n",
       "      <th>paper_time25</th>\n",
       "      <th>pressure_mean25</th>\n",
       "      <th>pressure_var25</th>\n",
       "      <th>total_time25</th>\n",
       "      <th>class</th>\n",
       "    </tr>\n",
       "  </thead>\n",
       "  <tbody>\n",
       "    <tr>\n",
       "      <th>0</th>\n",
       "      <td>id_1</td>\n",
       "      <td>5160</td>\n",
       "      <td>0.000013</td>\n",
       "      <td>120.804174</td>\n",
       "      <td>86.853334</td>\n",
       "      <td>957</td>\n",
       "      <td>6601</td>\n",
       "      <td>0.361800</td>\n",
       "      <td>0.217459</td>\n",
       "      <td>103.828754</td>\n",
       "      <td>...</td>\n",
       "      <td>0.141434</td>\n",
       "      <td>0.024471</td>\n",
       "      <td>5.596487</td>\n",
       "      <td>3.184589</td>\n",
       "      <td>71</td>\n",
       "      <td>40120</td>\n",
       "      <td>1749.278166</td>\n",
       "      <td>296102.7676</td>\n",
       "      <td>144605</td>\n",
       "      <td>P</td>\n",
       "    </tr>\n",
       "    <tr>\n",
       "      <th>1</th>\n",
       "      <td>id_2</td>\n",
       "      <td>51980</td>\n",
       "      <td>0.000016</td>\n",
       "      <td>115.318238</td>\n",
       "      <td>83.448681</td>\n",
       "      <td>1694</td>\n",
       "      <td>6998</td>\n",
       "      <td>0.272513</td>\n",
       "      <td>0.144880</td>\n",
       "      <td>99.383459</td>\n",
       "      <td>...</td>\n",
       "      <td>0.049663</td>\n",
       "      <td>0.018368</td>\n",
       "      <td>1.665973</td>\n",
       "      <td>0.950249</td>\n",
       "      <td>129</td>\n",
       "      <td>126700</td>\n",
       "      <td>1504.768272</td>\n",
       "      <td>278744.2850</td>\n",
       "      <td>298640</td>\n",
       "      <td>P</td>\n",
       "    </tr>\n",
       "    <tr>\n",
       "      <th>2</th>\n",
       "      <td>id_3</td>\n",
       "      <td>2600</td>\n",
       "      <td>0.000010</td>\n",
       "      <td>229.933997</td>\n",
       "      <td>172.761858</td>\n",
       "      <td>2333</td>\n",
       "      <td>5802</td>\n",
       "      <td>0.387020</td>\n",
       "      <td>0.181342</td>\n",
       "      <td>201.347928</td>\n",
       "      <td>...</td>\n",
       "      <td>0.178194</td>\n",
       "      <td>0.017174</td>\n",
       "      <td>4.000781</td>\n",
       "      <td>2.392521</td>\n",
       "      <td>74</td>\n",
       "      <td>45480</td>\n",
       "      <td>1431.443492</td>\n",
       "      <td>144411.7055</td>\n",
       "      <td>79025</td>\n",
       "      <td>P</td>\n",
       "    </tr>\n",
       "    <tr>\n",
       "      <th>3</th>\n",
       "      <td>id_4</td>\n",
       "      <td>2130</td>\n",
       "      <td>0.000010</td>\n",
       "      <td>369.403342</td>\n",
       "      <td>183.193104</td>\n",
       "      <td>1756</td>\n",
       "      <td>8159</td>\n",
       "      <td>0.556879</td>\n",
       "      <td>0.164502</td>\n",
       "      <td>276.298223</td>\n",
       "      <td>...</td>\n",
       "      <td>0.113905</td>\n",
       "      <td>0.019860</td>\n",
       "      <td>4.206746</td>\n",
       "      <td>1.613522</td>\n",
       "      <td>123</td>\n",
       "      <td>67945</td>\n",
       "      <td>1465.843329</td>\n",
       "      <td>230184.7154</td>\n",
       "      <td>181220</td>\n",
       "      <td>P</td>\n",
       "    </tr>\n",
       "    <tr>\n",
       "      <th>4</th>\n",
       "      <td>id_5</td>\n",
       "      <td>2310</td>\n",
       "      <td>0.000007</td>\n",
       "      <td>257.997131</td>\n",
       "      <td>111.275889</td>\n",
       "      <td>987</td>\n",
       "      <td>4732</td>\n",
       "      <td>0.266077</td>\n",
       "      <td>0.145104</td>\n",
       "      <td>184.636510</td>\n",
       "      <td>...</td>\n",
       "      <td>0.121782</td>\n",
       "      <td>0.020872</td>\n",
       "      <td>3.319036</td>\n",
       "      <td>1.680629</td>\n",
       "      <td>92</td>\n",
       "      <td>37285</td>\n",
       "      <td>1841.702561</td>\n",
       "      <td>158290.0255</td>\n",
       "      <td>72575</td>\n",
       "      <td>P</td>\n",
       "    </tr>\n",
       "  </tbody>\n",
       "</table>\n",
       "<p>5 rows × 452 columns</p>\n",
       "</div>"
      ],
      "text/plain": [
       "     ID  air_time1  disp_index1  gmrt_in_air1  gmrt_on_paper1  \\\n",
       "0  id_1       5160     0.000013    120.804174       86.853334   \n",
       "1  id_2      51980     0.000016    115.318238       83.448681   \n",
       "2  id_3       2600     0.000010    229.933997      172.761858   \n",
       "3  id_4       2130     0.000010    369.403342      183.193104   \n",
       "4  id_5       2310     0.000007    257.997131      111.275889   \n",
       "\n",
       "   max_x_extension1  max_y_extension1  mean_acc_in_air1  mean_acc_on_paper1  \\\n",
       "0               957              6601          0.361800            0.217459   \n",
       "1              1694              6998          0.272513            0.144880   \n",
       "2              2333              5802          0.387020            0.181342   \n",
       "3              1756              8159          0.556879            0.164502   \n",
       "4               987              4732          0.266077            0.145104   \n",
       "\n",
       "   mean_gmrt1  ...  mean_jerk_in_air25  mean_jerk_on_paper25  \\\n",
       "0  103.828754  ...            0.141434              0.024471   \n",
       "1   99.383459  ...            0.049663              0.018368   \n",
       "2  201.347928  ...            0.178194              0.017174   \n",
       "3  276.298223  ...            0.113905              0.019860   \n",
       "4  184.636510  ...            0.121782              0.020872   \n",
       "\n",
       "   mean_speed_in_air25  mean_speed_on_paper25  num_of_pendown25  paper_time25  \\\n",
       "0             5.596487               3.184589                71         40120   \n",
       "1             1.665973               0.950249               129        126700   \n",
       "2             4.000781               2.392521                74         45480   \n",
       "3             4.206746               1.613522               123         67945   \n",
       "4             3.319036               1.680629                92         37285   \n",
       "\n",
       "   pressure_mean25  pressure_var25  total_time25  class  \n",
       "0      1749.278166     296102.7676        144605      P  \n",
       "1      1504.768272     278744.2850        298640      P  \n",
       "2      1431.443492     144411.7055         79025      P  \n",
       "3      1465.843329     230184.7154        181220      P  \n",
       "4      1841.702561     158290.0255         72575      P  \n",
       "\n",
       "[5 rows x 452 columns]"
      ]
     },
     "execution_count": 4,
     "metadata": {},
     "output_type": "execute_result"
    }
   ],
   "source": [
    "data.head(5)"
   ]
  },
  {
   "cell_type": "code",
   "execution_count": 5,
   "id": "0b4ff769",
   "metadata": {},
   "outputs": [
    {
     "data": {
      "text/html": [
       "<div>\n",
       "<style scoped>\n",
       "    .dataframe tbody tr th:only-of-type {\n",
       "        vertical-align: middle;\n",
       "    }\n",
       "\n",
       "    .dataframe tbody tr th {\n",
       "        vertical-align: top;\n",
       "    }\n",
       "\n",
       "    .dataframe thead th {\n",
       "        text-align: right;\n",
       "    }\n",
       "</style>\n",
       "<table border=\"1\" class=\"dataframe\">\n",
       "  <thead>\n",
       "    <tr style=\"text-align: right;\">\n",
       "      <th></th>\n",
       "      <th>ID</th>\n",
       "      <th>air_time1</th>\n",
       "      <th>disp_index1</th>\n",
       "      <th>gmrt_in_air1</th>\n",
       "      <th>gmrt_on_paper1</th>\n",
       "      <th>max_x_extension1</th>\n",
       "      <th>max_y_extension1</th>\n",
       "      <th>mean_acc_in_air1</th>\n",
       "      <th>mean_acc_on_paper1</th>\n",
       "      <th>mean_gmrt1</th>\n",
       "      <th>...</th>\n",
       "      <th>mean_jerk_in_air25</th>\n",
       "      <th>mean_jerk_on_paper25</th>\n",
       "      <th>mean_speed_in_air25</th>\n",
       "      <th>mean_speed_on_paper25</th>\n",
       "      <th>num_of_pendown25</th>\n",
       "      <th>paper_time25</th>\n",
       "      <th>pressure_mean25</th>\n",
       "      <th>pressure_var25</th>\n",
       "      <th>total_time25</th>\n",
       "      <th>class</th>\n",
       "    </tr>\n",
       "  </thead>\n",
       "  <tbody>\n",
       "    <tr>\n",
       "      <th>172</th>\n",
       "      <td>id_173</td>\n",
       "      <td>1760</td>\n",
       "      <td>0.000008</td>\n",
       "      <td>289.518195</td>\n",
       "      <td>196.411138</td>\n",
       "      <td>1674</td>\n",
       "      <td>6946</td>\n",
       "      <td>0.518937</td>\n",
       "      <td>0.202613</td>\n",
       "      <td>242.964666</td>\n",
       "      <td>...</td>\n",
       "      <td>0.114472</td>\n",
       "      <td>0.017194</td>\n",
       "      <td>3.493815</td>\n",
       "      <td>2.510601</td>\n",
       "      <td>88</td>\n",
       "      <td>51675</td>\n",
       "      <td>1915.573488</td>\n",
       "      <td>128727.1241</td>\n",
       "      <td>83445</td>\n",
       "      <td>H</td>\n",
       "    </tr>\n",
       "    <tr>\n",
       "      <th>173</th>\n",
       "      <td>id_174</td>\n",
       "      <td>2875</td>\n",
       "      <td>0.000008</td>\n",
       "      <td>235.769350</td>\n",
       "      <td>178.208024</td>\n",
       "      <td>1838</td>\n",
       "      <td>6560</td>\n",
       "      <td>0.567311</td>\n",
       "      <td>0.147818</td>\n",
       "      <td>206.988687</td>\n",
       "      <td>...</td>\n",
       "      <td>0.114472</td>\n",
       "      <td>0.017194</td>\n",
       "      <td>3.493815</td>\n",
       "      <td>2.510601</td>\n",
       "      <td>88</td>\n",
       "      <td>51675</td>\n",
       "      <td>1915.573488</td>\n",
       "      <td>128727.1241</td>\n",
       "      <td>83445</td>\n",
       "      <td>H</td>\n",
       "    </tr>\n",
       "  </tbody>\n",
       "</table>\n",
       "<p>2 rows × 452 columns</p>\n",
       "</div>"
      ],
      "text/plain": [
       "         ID  air_time1  disp_index1  gmrt_in_air1  gmrt_on_paper1  \\\n",
       "172  id_173       1760     0.000008    289.518195      196.411138   \n",
       "173  id_174       2875     0.000008    235.769350      178.208024   \n",
       "\n",
       "     max_x_extension1  max_y_extension1  mean_acc_in_air1  mean_acc_on_paper1  \\\n",
       "172              1674              6946          0.518937            0.202613   \n",
       "173              1838              6560          0.567311            0.147818   \n",
       "\n",
       "     mean_gmrt1  ...  mean_jerk_in_air25  mean_jerk_on_paper25  \\\n",
       "172  242.964666  ...            0.114472              0.017194   \n",
       "173  206.988687  ...            0.114472              0.017194   \n",
       "\n",
       "     mean_speed_in_air25  mean_speed_on_paper25  num_of_pendown25  \\\n",
       "172             3.493815               2.510601                88   \n",
       "173             3.493815               2.510601                88   \n",
       "\n",
       "     paper_time25  pressure_mean25  pressure_var25  total_time25  class  \n",
       "172         51675      1915.573488     128727.1241         83445      H  \n",
       "173         51675      1915.573488     128727.1241         83445      H  \n",
       "\n",
       "[2 rows x 452 columns]"
      ]
     },
     "execution_count": 5,
     "metadata": {},
     "output_type": "execute_result"
    }
   ],
   "source": [
    "data.tail(2)"
   ]
  },
  {
   "cell_type": "code",
   "execution_count": 6,
   "id": "f6d1785a",
   "metadata": {},
   "outputs": [
    {
     "data": {
      "text/html": [
       "<div>\n",
       "<style scoped>\n",
       "    .dataframe tbody tr th:only-of-type {\n",
       "        vertical-align: middle;\n",
       "    }\n",
       "\n",
       "    .dataframe tbody tr th {\n",
       "        vertical-align: top;\n",
       "    }\n",
       "\n",
       "    .dataframe thead th {\n",
       "        text-align: right;\n",
       "    }\n",
       "</style>\n",
       "<table border=\"1\" class=\"dataframe\">\n",
       "  <thead>\n",
       "    <tr style=\"text-align: right;\">\n",
       "      <th></th>\n",
       "      <th>air_time1</th>\n",
       "      <th>disp_index1</th>\n",
       "      <th>gmrt_in_air1</th>\n",
       "      <th>gmrt_on_paper1</th>\n",
       "      <th>max_x_extension1</th>\n",
       "      <th>max_y_extension1</th>\n",
       "      <th>mean_acc_in_air1</th>\n",
       "      <th>mean_acc_on_paper1</th>\n",
       "      <th>mean_gmrt1</th>\n",
       "      <th>mean_jerk_in_air1</th>\n",
       "      <th>...</th>\n",
       "      <th>mean_gmrt25</th>\n",
       "      <th>mean_jerk_in_air25</th>\n",
       "      <th>mean_jerk_on_paper25</th>\n",
       "      <th>mean_speed_in_air25</th>\n",
       "      <th>mean_speed_on_paper25</th>\n",
       "      <th>num_of_pendown25</th>\n",
       "      <th>paper_time25</th>\n",
       "      <th>pressure_mean25</th>\n",
       "      <th>pressure_var25</th>\n",
       "      <th>total_time25</th>\n",
       "    </tr>\n",
       "  </thead>\n",
       "  <tbody>\n",
       "    <tr>\n",
       "      <th>count</th>\n",
       "      <td>174.000000</td>\n",
       "      <td>174.000000</td>\n",
       "      <td>174.000000</td>\n",
       "      <td>174.000000</td>\n",
       "      <td>174.000000</td>\n",
       "      <td>174.000000</td>\n",
       "      <td>174.000000</td>\n",
       "      <td>174.000000</td>\n",
       "      <td>174.000000</td>\n",
       "      <td>174.000000</td>\n",
       "      <td>...</td>\n",
       "      <td>174.000000</td>\n",
       "      <td>174.000000</td>\n",
       "      <td>174.000000</td>\n",
       "      <td>174.000000</td>\n",
       "      <td>174.000000</td>\n",
       "      <td>174.000000</td>\n",
       "      <td>174.000000</td>\n",
       "      <td>174.000000</td>\n",
       "      <td>174.000000</td>\n",
       "      <td>1.740000e+02</td>\n",
       "    </tr>\n",
       "    <tr>\n",
       "      <th>mean</th>\n",
       "      <td>5664.166667</td>\n",
       "      <td>0.000010</td>\n",
       "      <td>297.666685</td>\n",
       "      <td>200.504413</td>\n",
       "      <td>1977.965517</td>\n",
       "      <td>7323.896552</td>\n",
       "      <td>0.416374</td>\n",
       "      <td>0.179823</td>\n",
       "      <td>249.085549</td>\n",
       "      <td>0.067556</td>\n",
       "      <td>...</td>\n",
       "      <td>221.360646</td>\n",
       "      <td>0.148286</td>\n",
       "      <td>0.019934</td>\n",
       "      <td>4.472643</td>\n",
       "      <td>2.871613</td>\n",
       "      <td>85.839080</td>\n",
       "      <td>43109.712644</td>\n",
       "      <td>1629.585962</td>\n",
       "      <td>163061.767360</td>\n",
       "      <td>1.642033e+05</td>\n",
       "    </tr>\n",
       "    <tr>\n",
       "      <th>std</th>\n",
       "      <td>12653.772746</td>\n",
       "      <td>0.000003</td>\n",
       "      <td>183.943181</td>\n",
       "      <td>111.629546</td>\n",
       "      <td>1648.306365</td>\n",
       "      <td>2188.290512</td>\n",
       "      <td>0.381837</td>\n",
       "      <td>0.064693</td>\n",
       "      <td>132.698462</td>\n",
       "      <td>0.074776</td>\n",
       "      <td>...</td>\n",
       "      <td>63.762013</td>\n",
       "      <td>0.062207</td>\n",
       "      <td>0.002388</td>\n",
       "      <td>1.501411</td>\n",
       "      <td>0.852809</td>\n",
       "      <td>27.485518</td>\n",
       "      <td>19092.024337</td>\n",
       "      <td>324.142316</td>\n",
       "      <td>56845.610814</td>\n",
       "      <td>4.969397e+05</td>\n",
       "    </tr>\n",
       "    <tr>\n",
       "      <th>min</th>\n",
       "      <td>65.000000</td>\n",
       "      <td>0.000002</td>\n",
       "      <td>28.734515</td>\n",
       "      <td>29.935835</td>\n",
       "      <td>754.000000</td>\n",
       "      <td>561.000000</td>\n",
       "      <td>0.067748</td>\n",
       "      <td>0.096631</td>\n",
       "      <td>41.199445</td>\n",
       "      <td>0.011861</td>\n",
       "      <td>...</td>\n",
       "      <td>69.928033</td>\n",
       "      <td>0.030169</td>\n",
       "      <td>0.014987</td>\n",
       "      <td>1.323565</td>\n",
       "      <td>0.950249</td>\n",
       "      <td>32.000000</td>\n",
       "      <td>15930.000000</td>\n",
       "      <td>474.049462</td>\n",
       "      <td>26984.926660</td>\n",
       "      <td>2.998000e+04</td>\n",
       "    </tr>\n",
       "    <tr>\n",
       "      <th>25%</th>\n",
       "      <td>1697.500000</td>\n",
       "      <td>0.000008</td>\n",
       "      <td>174.153023</td>\n",
       "      <td>136.524742</td>\n",
       "      <td>1362.500000</td>\n",
       "      <td>6124.000000</td>\n",
       "      <td>0.218209</td>\n",
       "      <td>0.146647</td>\n",
       "      <td>161.136182</td>\n",
       "      <td>0.029523</td>\n",
       "      <td>...</td>\n",
       "      <td>178.798382</td>\n",
       "      <td>0.107732</td>\n",
       "      <td>0.018301</td>\n",
       "      <td>3.485934</td>\n",
       "      <td>2.401199</td>\n",
       "      <td>66.000000</td>\n",
       "      <td>32803.750000</td>\n",
       "      <td>1499.112088</td>\n",
       "      <td>120099.046800</td>\n",
       "      <td>5.917500e+04</td>\n",
       "    </tr>\n",
       "    <tr>\n",
       "      <th>50%</th>\n",
       "      <td>2890.000000</td>\n",
       "      <td>0.000009</td>\n",
       "      <td>255.791452</td>\n",
       "      <td>176.494494</td>\n",
       "      <td>1681.000000</td>\n",
       "      <td>6975.500000</td>\n",
       "      <td>0.275184</td>\n",
       "      <td>0.163659</td>\n",
       "      <td>224.445268</td>\n",
       "      <td>0.039233</td>\n",
       "      <td>...</td>\n",
       "      <td>217.431621</td>\n",
       "      <td>0.140483</td>\n",
       "      <td>0.019488</td>\n",
       "      <td>4.510578</td>\n",
       "      <td>2.830672</td>\n",
       "      <td>81.000000</td>\n",
       "      <td>37312.500000</td>\n",
       "      <td>1729.385010</td>\n",
       "      <td>158236.771800</td>\n",
       "      <td>7.611500e+04</td>\n",
       "    </tr>\n",
       "    <tr>\n",
       "      <th>75%</th>\n",
       "      <td>4931.250000</td>\n",
       "      <td>0.000011</td>\n",
       "      <td>358.917885</td>\n",
       "      <td>234.052560</td>\n",
       "      <td>2082.750000</td>\n",
       "      <td>8298.500000</td>\n",
       "      <td>0.442706</td>\n",
       "      <td>0.188879</td>\n",
       "      <td>294.392298</td>\n",
       "      <td>0.071057</td>\n",
       "      <td>...</td>\n",
       "      <td>264.310776</td>\n",
       "      <td>0.199168</td>\n",
       "      <td>0.021134</td>\n",
       "      <td>5.212794</td>\n",
       "      <td>3.335828</td>\n",
       "      <td>101.500000</td>\n",
       "      <td>46533.750000</td>\n",
       "      <td>1865.626974</td>\n",
       "      <td>200921.078475</td>\n",
       "      <td>1.275425e+05</td>\n",
       "    </tr>\n",
       "    <tr>\n",
       "      <th>max</th>\n",
       "      <td>109965.000000</td>\n",
       "      <td>0.000028</td>\n",
       "      <td>1168.328276</td>\n",
       "      <td>865.210522</td>\n",
       "      <td>18602.000000</td>\n",
       "      <td>15783.000000</td>\n",
       "      <td>2.772566</td>\n",
       "      <td>0.627350</td>\n",
       "      <td>836.784702</td>\n",
       "      <td>0.543199</td>\n",
       "      <td>...</td>\n",
       "      <td>437.373267</td>\n",
       "      <td>0.375078</td>\n",
       "      <td>0.029227</td>\n",
       "      <td>10.416715</td>\n",
       "      <td>5.602909</td>\n",
       "      <td>209.000000</td>\n",
       "      <td>139575.000000</td>\n",
       "      <td>1999.775983</td>\n",
       "      <td>352981.850000</td>\n",
       "      <td>5.704200e+06</td>\n",
       "    </tr>\n",
       "  </tbody>\n",
       "</table>\n",
       "<p>8 rows × 450 columns</p>\n",
       "</div>"
      ],
      "text/plain": [
       "           air_time1  disp_index1  gmrt_in_air1  gmrt_on_paper1  \\\n",
       "count     174.000000   174.000000    174.000000      174.000000   \n",
       "mean     5664.166667     0.000010    297.666685      200.504413   \n",
       "std     12653.772746     0.000003    183.943181      111.629546   \n",
       "min        65.000000     0.000002     28.734515       29.935835   \n",
       "25%      1697.500000     0.000008    174.153023      136.524742   \n",
       "50%      2890.000000     0.000009    255.791452      176.494494   \n",
       "75%      4931.250000     0.000011    358.917885      234.052560   \n",
       "max    109965.000000     0.000028   1168.328276      865.210522   \n",
       "\n",
       "       max_x_extension1  max_y_extension1  mean_acc_in_air1  \\\n",
       "count        174.000000        174.000000        174.000000   \n",
       "mean        1977.965517       7323.896552          0.416374   \n",
       "std         1648.306365       2188.290512          0.381837   \n",
       "min          754.000000        561.000000          0.067748   \n",
       "25%         1362.500000       6124.000000          0.218209   \n",
       "50%         1681.000000       6975.500000          0.275184   \n",
       "75%         2082.750000       8298.500000          0.442706   \n",
       "max        18602.000000      15783.000000          2.772566   \n",
       "\n",
       "       mean_acc_on_paper1  mean_gmrt1  mean_jerk_in_air1  ...  mean_gmrt25  \\\n",
       "count          174.000000  174.000000         174.000000  ...   174.000000   \n",
       "mean             0.179823  249.085549           0.067556  ...   221.360646   \n",
       "std              0.064693  132.698462           0.074776  ...    63.762013   \n",
       "min              0.096631   41.199445           0.011861  ...    69.928033   \n",
       "25%              0.146647  161.136182           0.029523  ...   178.798382   \n",
       "50%              0.163659  224.445268           0.039233  ...   217.431621   \n",
       "75%              0.188879  294.392298           0.071057  ...   264.310776   \n",
       "max              0.627350  836.784702           0.543199  ...   437.373267   \n",
       "\n",
       "       mean_jerk_in_air25  mean_jerk_on_paper25  mean_speed_in_air25  \\\n",
       "count          174.000000            174.000000           174.000000   \n",
       "mean             0.148286              0.019934             4.472643   \n",
       "std              0.062207              0.002388             1.501411   \n",
       "min              0.030169              0.014987             1.323565   \n",
       "25%              0.107732              0.018301             3.485934   \n",
       "50%              0.140483              0.019488             4.510578   \n",
       "75%              0.199168              0.021134             5.212794   \n",
       "max              0.375078              0.029227            10.416715   \n",
       "\n",
       "       mean_speed_on_paper25  num_of_pendown25   paper_time25  \\\n",
       "count             174.000000        174.000000     174.000000   \n",
       "mean                2.871613         85.839080   43109.712644   \n",
       "std                 0.852809         27.485518   19092.024337   \n",
       "min                 0.950249         32.000000   15930.000000   \n",
       "25%                 2.401199         66.000000   32803.750000   \n",
       "50%                 2.830672         81.000000   37312.500000   \n",
       "75%                 3.335828        101.500000   46533.750000   \n",
       "max                 5.602909        209.000000  139575.000000   \n",
       "\n",
       "       pressure_mean25  pressure_var25  total_time25  \n",
       "count       174.000000      174.000000  1.740000e+02  \n",
       "mean       1629.585962   163061.767360  1.642033e+05  \n",
       "std         324.142316    56845.610814  4.969397e+05  \n",
       "min         474.049462    26984.926660  2.998000e+04  \n",
       "25%        1499.112088   120099.046800  5.917500e+04  \n",
       "50%        1729.385010   158236.771800  7.611500e+04  \n",
       "75%        1865.626974   200921.078475  1.275425e+05  \n",
       "max        1999.775983   352981.850000  5.704200e+06  \n",
       "\n",
       "[8 rows x 450 columns]"
      ]
     },
     "execution_count": 6,
     "metadata": {},
     "output_type": "execute_result"
    }
   ],
   "source": [
    "data.describe()"
   ]
  },
  {
   "cell_type": "code",
   "execution_count": 7,
   "id": "7a65e1a6",
   "metadata": {},
   "outputs": [
    {
     "data": {
      "text/plain": [
       "ID                 0\n",
       "air_time1          0\n",
       "disp_index1        0\n",
       "gmrt_in_air1       0\n",
       "gmrt_on_paper1     0\n",
       "                  ..\n",
       "paper_time25       0\n",
       "pressure_mean25    0\n",
       "pressure_var25     0\n",
       "total_time25       0\n",
       "class              0\n",
       "Length: 452, dtype: int64"
      ]
     },
     "execution_count": 7,
     "metadata": {},
     "output_type": "execute_result"
    }
   ],
   "source": [
    "data.isnull().sum()"
   ]
  },
  {
   "cell_type": "code",
   "execution_count": 8,
   "id": "6221ffa3",
   "metadata": {},
   "outputs": [
    {
     "data": {
      "text/plain": [
       "(174, 452)"
      ]
     },
     "execution_count": 8,
     "metadata": {},
     "output_type": "execute_result"
    }
   ],
   "source": [
    "data.shape"
   ]
  },
  {
   "cell_type": "code",
   "execution_count": 9,
   "id": "6ce32bac",
   "metadata": {},
   "outputs": [
    {
     "name": "stdout",
     "output_type": "stream",
     "text": [
      "     air_time1  disp_index1  gmrt_in_air1  gmrt_on_paper1  max_x_extension1  \\\n",
      "0         5160     0.000013    120.804174       86.853334               957   \n",
      "1        51980     0.000016    115.318238       83.448681              1694   \n",
      "2         2600     0.000010    229.933997      172.761858              2333   \n",
      "3         2130     0.000010    369.403342      183.193104              1756   \n",
      "4         2310     0.000007    257.997131      111.275889               987   \n",
      "..         ...          ...           ...             ...               ...   \n",
      "169       2930     0.000010    241.736477      176.115957              1839   \n",
      "170       2140     0.000009    274.728964      234.495802              2053   \n",
      "171       3830     0.000008    151.536989      171.104693              1287   \n",
      "172       1760     0.000008    289.518195      196.411138              1674   \n",
      "173       2875     0.000008    235.769350      178.208024              1838   \n",
      "\n",
      "     max_y_extension1  mean_acc_in_air1  mean_acc_on_paper1  mean_gmrt1  \\\n",
      "0                6601          0.361800            0.217459  103.828754   \n",
      "1                6998          0.272513            0.144880   99.383459   \n",
      "2                5802          0.387020            0.181342  201.347928   \n",
      "3                8159          0.556879            0.164502  276.298223   \n",
      "4                4732          0.266077            0.145104  184.636510   \n",
      "..                ...               ...                 ...         ...   \n",
      "169              6439          0.253347            0.174663  208.926217   \n",
      "170              8487          0.225537            0.174920  254.612383   \n",
      "171              7352          0.165480            0.161058  161.320841   \n",
      "172              6946          0.518937            0.202613  242.964666   \n",
      "173              6560          0.567311            0.147818  206.988687   \n",
      "\n",
      "     mean_jerk_in_air1  ...  mean_jerk_in_air25  mean_jerk_on_paper25  \\\n",
      "0             0.051836  ...            0.141434              0.024471   \n",
      "1             0.039827  ...            0.049663              0.018368   \n",
      "2             0.064220  ...            0.178194              0.017174   \n",
      "3             0.090408  ...            0.113905              0.019860   \n",
      "4             0.037528  ...            0.121782              0.020872   \n",
      "..                 ...  ...                 ...                   ...   \n",
      "169           0.032691  ...            0.119152              0.020909   \n",
      "170           0.032059  ...            0.174495              0.017640   \n",
      "171           0.022705  ...            0.114472              0.017194   \n",
      "172           0.090686  ...            0.114472              0.017194   \n",
      "173           0.099555  ...            0.114472              0.017194   \n",
      "\n",
      "     mean_speed_in_air25  mean_speed_on_paper25  num_of_pendown25  \\\n",
      "0               5.596487               3.184589                71   \n",
      "1               1.665973               0.950249               129   \n",
      "2               4.000781               2.392521                74   \n",
      "3               4.206746               1.613522               123   \n",
      "4               3.319036               1.680629                92   \n",
      "..                   ...                    ...               ...   \n",
      "169             4.508709               2.233198                96   \n",
      "170             4.685573               2.806888                84   \n",
      "171             3.493815               2.510601                88   \n",
      "172             3.493815               2.510601                88   \n",
      "173             3.493815               2.510601                88   \n",
      "\n",
      "     paper_time25  pressure_mean25  pressure_var25  total_time25  class  \n",
      "0           40120      1749.278166     296102.7676        144605      P  \n",
      "1          126700      1504.768272     278744.2850        298640      P  \n",
      "2           45480      1431.443492     144411.7055         79025      P  \n",
      "3           67945      1465.843329     230184.7154        181220      P  \n",
      "4           37285      1841.702561     158290.0255         72575      P  \n",
      "..            ...              ...             ...           ...    ...  \n",
      "169         44545      1798.923336     247448.3108         80335      H  \n",
      "170         37560      1725.619941     160664.6464        345835      H  \n",
      "171         51675      1915.573488     128727.1241         83445      H  \n",
      "172         51675      1915.573488     128727.1241         83445      H  \n",
      "173         51675      1915.573488     128727.1241         83445      H  \n",
      "\n",
      "[174 rows x 451 columns]\n"
     ]
    }
   ],
   "source": [
    "data= data.drop('ID', axis = 1)\n",
    "print(data)"
   ]
  },
  {
   "cell_type": "code",
   "execution_count": 10,
   "id": "8b5a6566",
   "metadata": {},
   "outputs": [
    {
     "data": {
      "text/plain": [
       "(174, 451)"
      ]
     },
     "execution_count": 10,
     "metadata": {},
     "output_type": "execute_result"
    }
   ],
   "source": [
    "data.head(2)\n",
    "data.shape"
   ]
  },
  {
   "cell_type": "code",
   "execution_count": 11,
   "id": "f0118575",
   "metadata": {},
   "outputs": [
    {
     "data": {
      "text/plain": [
       "Index(['air_time1', 'disp_index1', 'gmrt_in_air1', 'gmrt_on_paper1',\n",
       "       'max_x_extension1', 'max_y_extension1', 'mean_acc_in_air1',\n",
       "       'mean_acc_on_paper1', 'mean_gmrt1', 'mean_jerk_in_air1',\n",
       "       ...\n",
       "       'mean_jerk_in_air25', 'mean_jerk_on_paper25', 'mean_speed_in_air25',\n",
       "       'mean_speed_on_paper25', 'num_of_pendown25', 'paper_time25',\n",
       "       'pressure_mean25', 'pressure_var25', 'total_time25', 'class'],\n",
       "      dtype='object', length=451)"
      ]
     },
     "execution_count": 11,
     "metadata": {},
     "output_type": "execute_result"
    }
   ],
   "source": [
    "data.keys()"
   ]
  },
  {
   "cell_type": "code",
   "execution_count": 12,
   "id": "96480e1b",
   "metadata": {},
   "outputs": [],
   "source": [
    "df = pd.DataFrame(data)"
   ]
  },
  {
   "cell_type": "code",
   "execution_count": 13,
   "id": "30f7166f",
   "metadata": {},
   "outputs": [
    {
     "name": "stdout",
     "output_type": "stream",
     "text": [
      "P    89\n",
      "H    85\n",
      "Name: class, dtype: int64\n",
      "1    89\n",
      "2    85\n",
      "Name: class, dtype: int64\n"
     ]
    }
   ],
   "source": [
    "#ANSWER:\n",
    "\n",
    "# Print number of data points in each class\n",
    "print(df['class'].value_counts())\n",
    "\n",
    "# Dictionary to input the different numbers for different classes\n",
    "label_encode = {\"class\": {\"P\":1, \"H\":2}}\n",
    "\n",
    "# Use .replace to change the different classes into numbers\n",
    "df.replace(label_encode,inplace=True)\n",
    "\n",
    "# Print number of data points in each class to check if the classes have changed to numbers\n",
    "print(df['class'].value_counts())"
   ]
  },
  {
   "cell_type": "code",
   "execution_count": 14,
   "id": "8bee013d",
   "metadata": {},
   "outputs": [],
   "source": [
    "# spliting the feature and target\n",
    "x = df.drop(columns = 'class' , axis = 1)\n",
    "y = df['class']"
   ]
  },
  {
   "cell_type": "code",
   "execution_count": 15,
   "id": "b62f1b9d",
   "metadata": {},
   "outputs": [
    {
     "data": {
      "text/plain": [
       "0      1\n",
       "1      1\n",
       "2      1\n",
       "3      1\n",
       "4      1\n",
       "      ..\n",
       "169    2\n",
       "170    2\n",
       "171    2\n",
       "172    2\n",
       "173    2\n",
       "Name: class, Length: 174, dtype: int64"
      ]
     },
     "execution_count": 15,
     "metadata": {},
     "output_type": "execute_result"
    }
   ],
   "source": [
    "y"
   ]
  },
  {
   "cell_type": "code",
   "execution_count": 16,
   "id": "b97bad85",
   "metadata": {},
   "outputs": [],
   "source": [
    "from sklearn.preprocessing import MinMaxScaler\n",
    "from sklearn.preprocessing import StandardScaler\n",
    "from sklearn.decomposition import PCA\n"
   ]
  },
  {
   "cell_type": "code",
   "execution_count": 17,
   "id": "760fa3cc",
   "metadata": {},
   "outputs": [
    {
     "data": {
      "text/html": [
       "<style>#sk-container-id-1 {color: black;background-color: white;}#sk-container-id-1 pre{padding: 0;}#sk-container-id-1 div.sk-toggleable {background-color: white;}#sk-container-id-1 label.sk-toggleable__label {cursor: pointer;display: block;width: 100%;margin-bottom: 0;padding: 0.3em;box-sizing: border-box;text-align: center;}#sk-container-id-1 label.sk-toggleable__label-arrow:before {content: \"▸\";float: left;margin-right: 0.25em;color: #696969;}#sk-container-id-1 label.sk-toggleable__label-arrow:hover:before {color: black;}#sk-container-id-1 div.sk-estimator:hover label.sk-toggleable__label-arrow:before {color: black;}#sk-container-id-1 div.sk-toggleable__content {max-height: 0;max-width: 0;overflow: hidden;text-align: left;background-color: #f0f8ff;}#sk-container-id-1 div.sk-toggleable__content pre {margin: 0.2em;color: black;border-radius: 0.25em;background-color: #f0f8ff;}#sk-container-id-1 input.sk-toggleable__control:checked~div.sk-toggleable__content {max-height: 200px;max-width: 100%;overflow: auto;}#sk-container-id-1 input.sk-toggleable__control:checked~label.sk-toggleable__label-arrow:before {content: \"▾\";}#sk-container-id-1 div.sk-estimator input.sk-toggleable__control:checked~label.sk-toggleable__label {background-color: #d4ebff;}#sk-container-id-1 div.sk-label input.sk-toggleable__control:checked~label.sk-toggleable__label {background-color: #d4ebff;}#sk-container-id-1 input.sk-hidden--visually {border: 0;clip: rect(1px 1px 1px 1px);clip: rect(1px, 1px, 1px, 1px);height: 1px;margin: -1px;overflow: hidden;padding: 0;position: absolute;width: 1px;}#sk-container-id-1 div.sk-estimator {font-family: monospace;background-color: #f0f8ff;border: 1px dotted black;border-radius: 0.25em;box-sizing: border-box;margin-bottom: 0.5em;}#sk-container-id-1 div.sk-estimator:hover {background-color: #d4ebff;}#sk-container-id-1 div.sk-parallel-item::after {content: \"\";width: 100%;border-bottom: 1px solid gray;flex-grow: 1;}#sk-container-id-1 div.sk-label:hover label.sk-toggleable__label {background-color: #d4ebff;}#sk-container-id-1 div.sk-serial::before {content: \"\";position: absolute;border-left: 1px solid gray;box-sizing: border-box;top: 0;bottom: 0;left: 50%;z-index: 0;}#sk-container-id-1 div.sk-serial {display: flex;flex-direction: column;align-items: center;background-color: white;padding-right: 0.2em;padding-left: 0.2em;position: relative;}#sk-container-id-1 div.sk-item {position: relative;z-index: 1;}#sk-container-id-1 div.sk-parallel {display: flex;align-items: stretch;justify-content: center;background-color: white;position: relative;}#sk-container-id-1 div.sk-item::before, #sk-container-id-1 div.sk-parallel-item::before {content: \"\";position: absolute;border-left: 1px solid gray;box-sizing: border-box;top: 0;bottom: 0;left: 50%;z-index: -1;}#sk-container-id-1 div.sk-parallel-item {display: flex;flex-direction: column;z-index: 1;position: relative;background-color: white;}#sk-container-id-1 div.sk-parallel-item:first-child::after {align-self: flex-end;width: 50%;}#sk-container-id-1 div.sk-parallel-item:last-child::after {align-self: flex-start;width: 50%;}#sk-container-id-1 div.sk-parallel-item:only-child::after {width: 0;}#sk-container-id-1 div.sk-dashed-wrapped {border: 1px dashed gray;margin: 0 0.4em 0.5em 0.4em;box-sizing: border-box;padding-bottom: 0.4em;background-color: white;}#sk-container-id-1 div.sk-label label {font-family: monospace;font-weight: bold;display: inline-block;line-height: 1.2em;}#sk-container-id-1 div.sk-label-container {text-align: center;}#sk-container-id-1 div.sk-container {/* jupyter's `normalize.less` sets `[hidden] { display: none; }` but bootstrap.min.css set `[hidden] { display: none !important; }` so we also need the `!important` here to be able to override the default hidden behavior on the sphinx rendered scikit-learn.org. See: https://github.com/scikit-learn/scikit-learn/issues/21755 */display: inline-block !important;position: relative;}#sk-container-id-1 div.sk-text-repr-fallback {display: none;}</style><div id=\"sk-container-id-1\" class=\"sk-top-container\"><div class=\"sk-text-repr-fallback\"><pre>StandardScaler()</pre><b>In a Jupyter environment, please rerun this cell to show the HTML representation or trust the notebook. <br />On GitHub, the HTML representation is unable to render, please try loading this page with nbviewer.org.</b></div><div class=\"sk-container\" hidden><div class=\"sk-item\"><div class=\"sk-estimator sk-toggleable\"><input class=\"sk-toggleable__control sk-hidden--visually\" id=\"sk-estimator-id-1\" type=\"checkbox\" checked><label for=\"sk-estimator-id-1\" class=\"sk-toggleable__label sk-toggleable__label-arrow\">StandardScaler</label><div class=\"sk-toggleable__content\"><pre>StandardScaler()</pre></div></div></div></div></div>"
      ],
      "text/plain": [
       "StandardScaler()"
      ]
     },
     "execution_count": 17,
     "metadata": {},
     "output_type": "execute_result"
    }
   ],
   "source": [
    "scaler=StandardScaler()\n",
    "scaler.fit(x)"
   ]
  },
  {
   "cell_type": "code",
   "execution_count": 18,
   "id": "6c47f671",
   "metadata": {},
   "outputs": [],
   "source": [
    "scaled_data=scaler.transform(x)"
   ]
  },
  {
   "cell_type": "code",
   "execution_count": 19,
   "id": "e674d752",
   "metadata": {},
   "outputs": [
    {
     "data": {
      "text/plain": [
       "array([[-0.03995818,  0.81920081, -0.96428112, ...,  0.37032387,\n",
       "         2.34714617, -0.03955186],\n",
       "       [ 3.67080255,  1.86319456, -0.99419127, ..., -0.38618196,\n",
       "         2.04090301,  0.27130989],\n",
       "       [-0.24285325,  0.16297617, -0.36928884, ..., -0.61304649,\n",
       "        -0.32902956, -0.17190044],\n",
       "       ...,\n",
       "       [-0.14536851, -0.41569466, -0.79672117, ...,  0.8848363 ,\n",
       "        -0.60574129, -0.16298033],\n",
       "       [-0.3094282 , -0.53500823, -0.0444268 , ...,  0.8848363 ,\n",
       "        -0.60574129, -0.16298033],\n",
       "       [-0.22105788, -0.46938576, -0.33747362, ...,  0.8848363 ,\n",
       "        -0.60574129, -0.16298033]])"
      ]
     },
     "execution_count": 19,
     "metadata": {},
     "output_type": "execute_result"
    }
   ],
   "source": [
    "scaled_data"
   ]
  },
  {
   "cell_type": "code",
   "execution_count": 20,
   "id": "34d7c297",
   "metadata": {},
   "outputs": [],
   "source": [
    "pca=PCA(n_components=60)"
   ]
  },
  {
   "cell_type": "code",
   "execution_count": 21,
   "id": "96baf4e1",
   "metadata": {},
   "outputs": [
    {
     "data": {
      "text/html": [
       "<style>#sk-container-id-2 {color: black;background-color: white;}#sk-container-id-2 pre{padding: 0;}#sk-container-id-2 div.sk-toggleable {background-color: white;}#sk-container-id-2 label.sk-toggleable__label {cursor: pointer;display: block;width: 100%;margin-bottom: 0;padding: 0.3em;box-sizing: border-box;text-align: center;}#sk-container-id-2 label.sk-toggleable__label-arrow:before {content: \"▸\";float: left;margin-right: 0.25em;color: #696969;}#sk-container-id-2 label.sk-toggleable__label-arrow:hover:before {color: black;}#sk-container-id-2 div.sk-estimator:hover label.sk-toggleable__label-arrow:before {color: black;}#sk-container-id-2 div.sk-toggleable__content {max-height: 0;max-width: 0;overflow: hidden;text-align: left;background-color: #f0f8ff;}#sk-container-id-2 div.sk-toggleable__content pre {margin: 0.2em;color: black;border-radius: 0.25em;background-color: #f0f8ff;}#sk-container-id-2 input.sk-toggleable__control:checked~div.sk-toggleable__content {max-height: 200px;max-width: 100%;overflow: auto;}#sk-container-id-2 input.sk-toggleable__control:checked~label.sk-toggleable__label-arrow:before {content: \"▾\";}#sk-container-id-2 div.sk-estimator input.sk-toggleable__control:checked~label.sk-toggleable__label {background-color: #d4ebff;}#sk-container-id-2 div.sk-label input.sk-toggleable__control:checked~label.sk-toggleable__label {background-color: #d4ebff;}#sk-container-id-2 input.sk-hidden--visually {border: 0;clip: rect(1px 1px 1px 1px);clip: rect(1px, 1px, 1px, 1px);height: 1px;margin: -1px;overflow: hidden;padding: 0;position: absolute;width: 1px;}#sk-container-id-2 div.sk-estimator {font-family: monospace;background-color: #f0f8ff;border: 1px dotted black;border-radius: 0.25em;box-sizing: border-box;margin-bottom: 0.5em;}#sk-container-id-2 div.sk-estimator:hover {background-color: #d4ebff;}#sk-container-id-2 div.sk-parallel-item::after {content: \"\";width: 100%;border-bottom: 1px solid gray;flex-grow: 1;}#sk-container-id-2 div.sk-label:hover label.sk-toggleable__label {background-color: #d4ebff;}#sk-container-id-2 div.sk-serial::before {content: \"\";position: absolute;border-left: 1px solid gray;box-sizing: border-box;top: 0;bottom: 0;left: 50%;z-index: 0;}#sk-container-id-2 div.sk-serial {display: flex;flex-direction: column;align-items: center;background-color: white;padding-right: 0.2em;padding-left: 0.2em;position: relative;}#sk-container-id-2 div.sk-item {position: relative;z-index: 1;}#sk-container-id-2 div.sk-parallel {display: flex;align-items: stretch;justify-content: center;background-color: white;position: relative;}#sk-container-id-2 div.sk-item::before, #sk-container-id-2 div.sk-parallel-item::before {content: \"\";position: absolute;border-left: 1px solid gray;box-sizing: border-box;top: 0;bottom: 0;left: 50%;z-index: -1;}#sk-container-id-2 div.sk-parallel-item {display: flex;flex-direction: column;z-index: 1;position: relative;background-color: white;}#sk-container-id-2 div.sk-parallel-item:first-child::after {align-self: flex-end;width: 50%;}#sk-container-id-2 div.sk-parallel-item:last-child::after {align-self: flex-start;width: 50%;}#sk-container-id-2 div.sk-parallel-item:only-child::after {width: 0;}#sk-container-id-2 div.sk-dashed-wrapped {border: 1px dashed gray;margin: 0 0.4em 0.5em 0.4em;box-sizing: border-box;padding-bottom: 0.4em;background-color: white;}#sk-container-id-2 div.sk-label label {font-family: monospace;font-weight: bold;display: inline-block;line-height: 1.2em;}#sk-container-id-2 div.sk-label-container {text-align: center;}#sk-container-id-2 div.sk-container {/* jupyter's `normalize.less` sets `[hidden] { display: none; }` but bootstrap.min.css set `[hidden] { display: none !important; }` so we also need the `!important` here to be able to override the default hidden behavior on the sphinx rendered scikit-learn.org. See: https://github.com/scikit-learn/scikit-learn/issues/21755 */display: inline-block !important;position: relative;}#sk-container-id-2 div.sk-text-repr-fallback {display: none;}</style><div id=\"sk-container-id-2\" class=\"sk-top-container\"><div class=\"sk-text-repr-fallback\"><pre>PCA(n_components=60)</pre><b>In a Jupyter environment, please rerun this cell to show the HTML representation or trust the notebook. <br />On GitHub, the HTML representation is unable to render, please try loading this page with nbviewer.org.</b></div><div class=\"sk-container\" hidden><div class=\"sk-item\"><div class=\"sk-estimator sk-toggleable\"><input class=\"sk-toggleable__control sk-hidden--visually\" id=\"sk-estimator-id-2\" type=\"checkbox\" checked><label for=\"sk-estimator-id-2\" class=\"sk-toggleable__label sk-toggleable__label-arrow\">PCA</label><div class=\"sk-toggleable__content\"><pre>PCA(n_components=60)</pre></div></div></div></div></div>"
      ],
      "text/plain": [
       "PCA(n_components=60)"
      ]
     },
     "execution_count": 21,
     "metadata": {},
     "output_type": "execute_result"
    }
   ],
   "source": [
    "pca.fit(scaled_data)"
   ]
  },
  {
   "cell_type": "code",
   "execution_count": 22,
   "id": "fe25c17e",
   "metadata": {},
   "outputs": [],
   "source": [
    "x_pca=pca.transform(scaled_data)"
   ]
  },
  {
   "cell_type": "code",
   "execution_count": 23,
   "id": "c5222862",
   "metadata": {},
   "outputs": [
    {
     "data": {
      "text/plain": [
       "(174, 450)"
      ]
     },
     "execution_count": 23,
     "metadata": {},
     "output_type": "execute_result"
    }
   ],
   "source": [
    "scaled_data.shape"
   ]
  },
  {
   "cell_type": "code",
   "execution_count": 24,
   "id": "7ab691f7",
   "metadata": {},
   "outputs": [
    {
     "data": {
      "text/plain": [
       "(174, 60)"
      ]
     },
     "execution_count": 24,
     "metadata": {},
     "output_type": "execute_result"
    }
   ],
   "source": [
    "x_pca.shape"
   ]
  },
  {
   "cell_type": "code",
   "execution_count": 25,
   "id": "dc9291c5",
   "metadata": {},
   "outputs": [
    {
     "data": {
      "text/plain": [
       "array([[ 1.82186302e+00,  4.61317210e+00,  1.64923543e-02, ...,\n",
       "        -1.85550605e+00, -2.46829326e+00, -7.61121179e-01],\n",
       "       [ 1.92403804e+01,  3.57230339e+00, -4.71792552e-01, ...,\n",
       "        -1.11100103e+00, -2.64882520e+00, -2.56375205e-01],\n",
       "       [ 1.08414930e+00, -2.29786285e+00, -5.05483477e+00, ...,\n",
       "         1.70845926e+00,  5.64199424e-02, -1.05067858e-01],\n",
       "       ...,\n",
       "       [ 3.29073050e+00, -4.19399686e+00, -5.76573543e-01, ...,\n",
       "        -1.27392506e+00, -1.00840939e-01,  3.56916634e-02],\n",
       "       [ 2.81363148e+00, -4.35149399e+00, -1.49838848e+00, ...,\n",
       "        -1.50609153e+00, -2.70825635e-01,  4.58333800e-02],\n",
       "       [ 2.86971018e+00, -4.29409421e+00, -1.28648658e+00, ...,\n",
       "        -1.30906286e+00, -6.48755454e-01, -1.00795716e-01]])"
      ]
     },
     "execution_count": 25,
     "metadata": {},
     "output_type": "execute_result"
    }
   ],
   "source": [
    "x_pca"
   ]
  },
  {
   "cell_type": "code",
   "execution_count": 26,
   "id": "f7c15f5f",
   "metadata": {},
   "outputs": [
    {
     "data": {
      "text/plain": [
       "Text(0, 0.5, 'Second principle component')"
      ]
     },
     "execution_count": 26,
     "metadata": {},
     "output_type": "execute_result"
    },
    {
     "data": {
      "image/png": "[encoded data removed]",
      "text/plain": [
       "<Figure size 800x600 with 1 Axes>"
      ]
     },
     "metadata": {},
     "output_type": "display_data"
    }
   ],
   "source": [
    "plt.figure(figsize=(8,6))\n",
    "plt.scatter(x_pca[:,0],x_pca[:,1],c=y)\n",
    "plt.xlabel('First principle component')\n",
    "plt.ylabel('Second principle component')\n",
    "\n"
   ]
  },
  {
   "cell_type": "code",
   "execution_count": 27,
   "id": "998fc0b2",
   "metadata": {},
   "outputs": [],
   "source": [
    "from sklearn.model_selection import train_test_split\n",
    "from sklearn.linear_model import LogisticRegression\n",
    "from sklearn.metrics import accuracy_score\n",
    "from sklearn.ensemble import BaggingClassifier\n",
    "from sklearn.tree import DecisionTreeClassifier\n",
    "from sklearn.ensemble import RandomForestClassifier, GradientBoostingClassifier\n",
    "from sklearn.model_selection import train_test_split\n",
    "from sklearn.metrics import accuracy_score, precision_score, recall_score, f1_score, confusion_matrix\n",
    "from sklearn.ensemble import VotingClassifier"
   ]
  },
  {
   "cell_type": "code",
   "execution_count": 69,
   "id": "0c9a1e5a",
   "metadata": {},
   "outputs": [],
   "source": [
    "# spliting the data into tranning data and testing data\n",
    "\n",
    "x_train,x_test, y_train, y_test = train_test_split(x_pca, y, test_size=0.3, random_state = 1)"
   ]
  },
  {
   "cell_type": "code",
   "execution_count": 70,
   "id": "27efe0d7",
   "metadata": {},
   "outputs": [
    {
     "name": "stdout",
     "output_type": "stream",
     "text": [
      "(174, 60) (121, 60) (53, 60)\n"
     ]
    }
   ],
   "source": [
    "print(x_pca.shape, x_train.shape, x_test.shape)"
   ]
  },
  {
   "cell_type": "code",
   "execution_count": 71,
   "id": "14592a75",
   "metadata": {},
   "outputs": [
    {
     "data": {
      "text/html": [
       "<style>#sk-container-id-9 {color: black;background-color: white;}#sk-container-id-9 pre{padding: 0;}#sk-container-id-9 div.sk-toggleable {background-color: white;}#sk-container-id-9 label.sk-toggleable__label {cursor: pointer;display: block;width: 100%;margin-bottom: 0;padding: 0.3em;box-sizing: border-box;text-align: center;}#sk-container-id-9 label.sk-toggleable__label-arrow:before {content: \"▸\";float: left;margin-right: 0.25em;color: #696969;}#sk-container-id-9 label.sk-toggleable__label-arrow:hover:before {color: black;}#sk-container-id-9 div.sk-estimator:hover label.sk-toggleable__label-arrow:before {color: black;}#sk-container-id-9 div.sk-toggleable__content {max-height: 0;max-width: 0;overflow: hidden;text-align: left;background-color: #f0f8ff;}#sk-container-id-9 div.sk-toggleable__content pre {margin: 0.2em;color: black;border-radius: 0.25em;background-color: #f0f8ff;}#sk-container-id-9 input.sk-toggleable__control:checked~div.sk-toggleable__content {max-height: 200px;max-width: 100%;overflow: auto;}#sk-container-id-9 input.sk-toggleable__control:checked~label.sk-toggleable__label-arrow:before {content: \"▾\";}#sk-container-id-9 div.sk-estimator input.sk-toggleable__control:checked~label.sk-toggleable__label {background-color: #d4ebff;}#sk-container-id-9 div.sk-label input.sk-toggleable__control:checked~label.sk-toggleable__label {background-color: #d4ebff;}#sk-container-id-9 input.sk-hidden--visually {border: 0;clip: rect(1px 1px 1px 1px);clip: rect(1px, 1px, 1px, 1px);height: 1px;margin: -1px;overflow: hidden;padding: 0;position: absolute;width: 1px;}#sk-container-id-9 div.sk-estimator {font-family: monospace;background-color: #f0f8ff;border: 1px dotted black;border-radius: 0.25em;box-sizing: border-box;margin-bottom: 0.5em;}#sk-container-id-9 div.sk-estimator:hover {background-color: #d4ebff;}#sk-container-id-9 div.sk-parallel-item::after {content: \"\";width: 100%;border-bottom: 1px solid gray;flex-grow: 1;}#sk-container-id-9 div.sk-label:hover label.sk-toggleable__label {background-color: #d4ebff;}#sk-container-id-9 div.sk-serial::before {content: \"\";position: absolute;border-left: 1px solid gray;box-sizing: border-box;top: 0;bottom: 0;left: 50%;z-index: 0;}#sk-container-id-9 div.sk-serial {display: flex;flex-direction: column;align-items: center;background-color: white;padding-right: 0.2em;padding-left: 0.2em;position: relative;}#sk-container-id-9 div.sk-item {position: relative;z-index: 1;}#sk-container-id-9 div.sk-parallel {display: flex;align-items: stretch;justify-content: center;background-color: white;position: relative;}#sk-container-id-9 div.sk-item::before, #sk-container-id-9 div.sk-parallel-item::before {content: \"\";position: absolute;border-left: 1px solid gray;box-sizing: border-box;top: 0;bottom: 0;left: 50%;z-index: -1;}#sk-container-id-9 div.sk-parallel-item {display: flex;flex-direction: column;z-index: 1;position: relative;background-color: white;}#sk-container-id-9 div.sk-parallel-item:first-child::after {align-self: flex-end;width: 50%;}#sk-container-id-9 div.sk-parallel-item:last-child::after {align-self: flex-start;width: 50%;}#sk-container-id-9 div.sk-parallel-item:only-child::after {width: 0;}#sk-container-id-9 div.sk-dashed-wrapped {border: 1px dashed gray;margin: 0 0.4em 0.5em 0.4em;box-sizing: border-box;padding-bottom: 0.4em;background-color: white;}#sk-container-id-9 div.sk-label label {font-family: monospace;font-weight: bold;display: inline-block;line-height: 1.2em;}#sk-container-id-9 div.sk-label-container {text-align: center;}#sk-container-id-9 div.sk-container {/* jupyter's `normalize.less` sets `[hidden] { display: none; }` but bootstrap.min.css set `[hidden] { display: none !important; }` so we also need the `!important` here to be able to override the default hidden behavior on the sphinx rendered scikit-learn.org. See: https://github.com/scikit-learn/scikit-learn/issues/21755 */display: inline-block !important;position: relative;}#sk-container-id-9 div.sk-text-repr-fallback {display: none;}</style><div id=\"sk-container-id-9\" class=\"sk-top-container\"><div class=\"sk-text-repr-fallback\"><pre>VotingClassifier(estimators=[(&#x27;rf&#x27;,\n",
       "                              RandomForestClassifier(max_depth=10,\n",
       "                                                     random_state=1)),\n",
       "                             (&#x27;gb&#x27;, GradientBoostingClassifier())])</pre><b>In a Jupyter environment, please rerun this cell to show the HTML representation or trust the notebook. <br />On GitHub, the HTML representation is unable to render, please try loading this page with nbviewer.org.</b></div><div class=\"sk-container\" hidden><div class=\"sk-item sk-dashed-wrapped\"><div class=\"sk-label-container\"><div class=\"sk-label sk-toggleable\"><input class=\"sk-toggleable__control sk-hidden--visually\" id=\"sk-estimator-id-20\" type=\"checkbox\" ><label for=\"sk-estimator-id-20\" class=\"sk-toggleable__label sk-toggleable__label-arrow\">VotingClassifier</label><div class=\"sk-toggleable__content\"><pre>VotingClassifier(estimators=[(&#x27;rf&#x27;,\n",
       "                              RandomForestClassifier(max_depth=10,\n",
       "                                                     random_state=1)),\n",
       "                             (&#x27;gb&#x27;, GradientBoostingClassifier())])</pre></div></div></div><div class=\"sk-parallel\"><div class=\"sk-parallel-item\"><div class=\"sk-item\"><div class=\"sk-label-container\"><div class=\"sk-label sk-toggleable\"><label>rf</label></div></div><div class=\"sk-serial\"><div class=\"sk-item\"><div class=\"sk-estimator sk-toggleable\"><input class=\"sk-toggleable__control sk-hidden--visually\" id=\"sk-estimator-id-21\" type=\"checkbox\" ><label for=\"sk-estimator-id-21\" class=\"sk-toggleable__label sk-toggleable__label-arrow\">RandomForestClassifier</label><div class=\"sk-toggleable__content\"><pre>RandomForestClassifier(max_depth=10, random_state=1)</pre></div></div></div></div></div></div><div class=\"sk-parallel-item\"><div class=\"sk-item\"><div class=\"sk-label-container\"><div class=\"sk-label sk-toggleable\"><label>gb</label></div></div><div class=\"sk-serial\"><div class=\"sk-item\"><div class=\"sk-estimator sk-toggleable\"><input class=\"sk-toggleable__control sk-hidden--visually\" id=\"sk-estimator-id-22\" type=\"checkbox\" ><label for=\"sk-estimator-id-22\" class=\"sk-toggleable__label sk-toggleable__label-arrow\">GradientBoostingClassifier</label><div class=\"sk-toggleable__content\"><pre>GradientBoostingClassifier()</pre></div></div></div></div></div></div></div></div></div></div>"
      ],
      "text/plain": [
       "VotingClassifier(estimators=[('rf',\n",
       "                              RandomForestClassifier(max_depth=10,\n",
       "                                                     random_state=1)),\n",
       "                             ('gb', GradientBoostingClassifier())])"
      ]
     },
     "execution_count": 71,
     "metadata": {},
     "output_type": "execute_result"
    }
   ],
   "source": [
    "#logreg = LogisticRegression()\n",
    "#dt = DecisionTreeClassifier()\n",
    "rf = RandomForestClassifier(max_depth=10, random_state=1)\n",
    "gb = GradientBoostingClassifier()\n",
    "\n",
    "# create the ensemble model\n",
    "model = [('rf', rf),('gb', gb)]\n",
    "ensemble = VotingClassifier(estimators=model)\n",
    "# train the ensemble model on the training set\n",
    "ensemble.fit(x_train, y_train)\n",
    "\n",
    "# predict on the test set\n",
    "#y_pred = ensemble.predict(x_test)"
   ]
  },
  {
   "cell_type": "code",
   "execution_count": 72,
   "id": "2b719d52",
   "metadata": {},
   "outputs": [
    {
     "name": "stdout",
     "output_type": "stream",
     "text": [
      "accuracy  of training data :  1.0\n"
     ]
    }
   ],
   "source": [
    "# model evaluation accuracy score\n",
    "## accuracy on train data\n",
    "x_train_prediction = ensemble.predict(x_train)\n",
    "training_data_accuracy = accuracy_score(x_train_prediction, y_train)\n",
    "print('accuracy  of training data : ', training_data_accuracy)"
   ]
  },
  {
   "cell_type": "code",
   "execution_count": 73,
   "id": "5bf15989",
   "metadata": {},
   "outputs": [
    {
     "name": "stdout",
     "output_type": "stream",
     "text": [
      "accuracy of test data :  83.01886792452831\n"
     ]
    }
   ],
   "source": [
    "## accuracy on test data data\n",
    "x_test_prediction = ensemble.predict(x_test)\n",
    "test_data_accuracy = accuracy_score(x_test_prediction, y_test)\n",
    "\n",
    "print('accuracy of test data : ', test_data_accuracy*100)"
   ]
  },
  {
   "cell_type": "code",
   "execution_count": 75,
   "id": "d58f9142",
   "metadata": {},
   "outputs": [
    {
     "name": "stdout",
     "output_type": "stream",
     "text": [
      "Error Rate of test data : 16.981132075471695\n",
      "              precision    recall  f1-score   support\n",
      "\n",
      "           1       0.88      0.79      0.84        29\n",
      "           2       0.78      0.88      0.82        24\n",
      "\n",
      "    accuracy                           0.83        53\n",
      "   macro avg       0.83      0.83      0.83        53\n",
      "weighted avg       0.84      0.83      0.83        53\n",
      "\n",
      "Confusion Matrix:\n",
      " [[23  6]\n",
      " [ 3 21]]\n"
     ]
    },
    {
     "data": {
      "image/png": "[encoded data removed]",
      "text/plain": [
       "<Figure size 1000x700 with 2 Axes>"
      ]
     },
     "metadata": {},
     "output_type": "display_data"
    }
   ],
   "source": [
    "from sklearn.metrics import classification_report, confusion_matrix, accuracy_score\n",
    "import seaborn as sns\n",
    "import matplotlib.pyplot as plt\n",
    "\n",
    "# 1. Error Rate\n",
    "error_rate = (1 - test_data_accuracy)*100\n",
    "print('Error Rate of test data :', error_rate)\n",
    "\n",
    "# 2. Precision, Recall, and F-Measure\n",
    "report = classification_report(y_test, x_test_prediction)\n",
    "print(report)\n",
    "\n",
    "# 3. Confusion Matrix\n",
    "conf_matrix = confusion_matrix(y_test, x_test_prediction)\n",
    "print(\"Confusion Matrix:\\n\", conf_matrix)\n",
    "\n",
    "# 4. Confusion Matrix Diagram\n",
    "plt.figure(figsize=(10,7))\n",
    "sns.heatmap(conf_matrix, annot=True, cmap='Blues', fmt='g')\n",
    "plt.xlabel('Predicted labels')\n",
    "plt.ylabel('True labels')\n",
    "plt.title('Confusion Matrix')\n",
    "plt.savefig('one_confusion_matrix.png')\n",
    "plt.show()\n"
   ]
  },
  {
   "cell_type": "code",
   "execution_count": null,
   "id": "6baa3b7c",
   "metadata": {},
   "outputs": [],
   "source": []
  }
 ],
 "metadata": {
  "kernelspec": {
   "display_name": "Python 3 (ipykernel)",
   "language": "python",
   "name": "python3"
  },
  "language_info": {
   "codemirror_mode": {
    "name": "ipython",
    "version": 3
   },
   "file_extension": ".py",
   "mimetype": "text/x-python",
   "name": "python",
   "nbconvert_exporter": "python",
   "pygments_lexer": "ipython3",
   "version": "3.10.9"
  }
 },
 "nbformat": 4,
 "nbformat_minor": 5
}
